{
 "cells": [
  {
   "cell_type": "markdown",
   "metadata": {},
   "source": [
    "# Final Project Submission\n",
    "\n",
    "Please fill out:\n",
    "* Student name: **Darius Fuller**\n",
    "* Student pace: self paced / **part time** / full time\n",
    "* Scheduled project review date/time: **TBD**\n",
    "* Instructor name: **James Irving**\n",
    "* Blog post URL: **https://medium.com/@d_full22/getting-sentimental-2db354e833bc**"
   ]
  },
  {
   "cell_type": "markdown",
   "metadata": {
    "heading_collapsed": true
   },
   "source": [
    "# The Problem"
   ]
  },
  {
   "cell_type": "markdown",
   "metadata": {
    "hidden": true
   },
   "source": [
    "> In this project I will be building a NLP model to analyze Twitter sentiment about various Apple and Google products. The end result will be able to look at a tweet and predict whether its underlying sentiment is *negative*, *neutral*, or *positive*.\n",
    "\n",
    "> The dataset used can be found at this data.world page: [Click here](https://data.world/crowdflower/brands-and-product-emotions)"
   ]
  },
  {
   "cell_type": "markdown",
   "metadata": {
    "heading_collapsed": true,
    "hidden": true
   },
   "source": [
    "## The plan"
   ]
  },
  {
   "cell_type": "markdown",
   "metadata": {
    "hidden": true
   },
   "source": [
    "> Although NLP can be achieved with more traditional machine learning models, I want to give this a try using a *Recurrent Neural Network* (RNN) which would be considered a Deep Learning model. I will be doing so through the Tensorflow/Keras packaging."
   ]
  },
  {
   "cell_type": "markdown",
   "metadata": {
    "heading_collapsed": true
   },
   "source": [
    "# Imports"
   ]
  },
  {
   "cell_type": "code",
   "execution_count": 1,
   "metadata": {
    "ExecuteTime": {
     "end_time": "2020-06-20T22:17:52.921519Z",
     "start_time": "2020-06-20T22:17:50.556006Z"
    },
    "hidden": true
   },
   "outputs": [],
   "source": [
    "import pandas as pd\n",
    "import numpy as np\n",
    "import functions as dlf\n",
    "import matplotlib.pyplot as plt\n",
    "import warnings\n",
    "import string\n",
    "np.random.seed(22)\n",
    "warnings.filterwarnings('ignore')"
   ]
  },
  {
   "cell_type": "code",
   "execution_count": 49,
   "metadata": {
    "ExecuteTime": {
     "end_time": "2020-06-21T01:19:04.921433Z",
     "start_time": "2020-06-21T01:19:04.914910Z"
    },
    "hidden": true
   },
   "outputs": [],
   "source": [
    "from importlib import reload\n",
    "from sklearn.model_selection import train_test_split\n",
    "from sklearn import metrics\n",
    "from nltk import word_tokenize, TweetTokenizer\n",
    "from gensim.models import word2vec\n",
    "from imblearn.over_sampling import SMOTE\n",
    "# from kerastuner.tuners import RandomSearch\n",
    "# from kerastuner.engine.hyperparameters import HyperParameters\n",
    "# from tensorflow.keras import backend as K\n",
    "from keras.preprocessing.sequence import pad_sequences\n",
    "from keras.layers import Input, Dense, LSTM, Embedding\n",
    "from keras.layers import Dropout, Activation, Bidirectional, GlobalMaxPool1D\n",
    "from keras.models import Sequential\n",
    "from keras.callbacks import EarlyStopping\n",
    "from keras import initializers, regularizers, constraints, optimizers, layers\n",
    "from keras.preprocessing import text, sequence\n",
    "from keras.utils import to_categorical\n",
    "from nltk.corpus import stopwords"
   ]
  },
  {
   "cell_type": "markdown",
   "metadata": {
    "hidden": true
   },
   "source": [
    "> Originally, when attempting to tune my models, I explored the `kerastuner` API. However, due to time limitations and version compatibility issues, I was unable to implement it successfully. This is one of the things I will come back to later if an opportunity to re-work this problem arises."
   ]
  },
  {
   "cell_type": "markdown",
   "metadata": {},
   "source": [
    "# Data Prep"
   ]
  },
  {
   "cell_type": "markdown",
   "metadata": {},
   "source": [
    "## Loading + Null Values"
   ]
  },
  {
   "cell_type": "code",
   "execution_count": 3,
   "metadata": {
    "ExecuteTime": {
     "end_time": "2020-06-20T22:22:48.725922Z",
     "start_time": "2020-06-20T22:22:48.485196Z"
    }
   },
   "outputs": [
    {
     "data": {
      "text/html": [
       "<div>\n",
       "<style scoped>\n",
       "    .dataframe tbody tr th:only-of-type {\n",
       "        vertical-align: middle;\n",
       "    }\n",
       "\n",
       "    .dataframe tbody tr th {\n",
       "        vertical-align: top;\n",
       "    }\n",
       "\n",
       "    .dataframe thead th {\n",
       "        text-align: right;\n",
       "    }\n",
       "</style>\n",
       "<table border=\"1\" class=\"dataframe\">\n",
       "  <thead>\n",
       "    <tr style=\"text-align: right;\">\n",
       "      <th></th>\n",
       "      <th>tweet_text</th>\n",
       "      <th>emotion_in_tweet_is_directed_at</th>\n",
       "      <th>is_there_an_emotion_directed_at_a_brand_or_product</th>\n",
       "    </tr>\n",
       "  </thead>\n",
       "  <tbody>\n",
       "    <tr>\n",
       "      <th>0</th>\n",
       "      <td>.@wesley83 I have a 3G iPhone. After 3 hrs twe...</td>\n",
       "      <td>iPhone</td>\n",
       "      <td>Negative emotion</td>\n",
       "    </tr>\n",
       "    <tr>\n",
       "      <th>1</th>\n",
       "      <td>@jessedee Know about @fludapp ? Awesome iPad/i...</td>\n",
       "      <td>iPad or iPhone App</td>\n",
       "      <td>Positive emotion</td>\n",
       "    </tr>\n",
       "    <tr>\n",
       "      <th>2</th>\n",
       "      <td>@swonderlin Can not wait for #iPad 2 also. The...</td>\n",
       "      <td>iPad</td>\n",
       "      <td>Positive emotion</td>\n",
       "    </tr>\n",
       "    <tr>\n",
       "      <th>3</th>\n",
       "      <td>@sxsw I hope this year's festival isn't as cra...</td>\n",
       "      <td>iPad or iPhone App</td>\n",
       "      <td>Negative emotion</td>\n",
       "    </tr>\n",
       "    <tr>\n",
       "      <th>4</th>\n",
       "      <td>@sxtxstate great stuff on Fri #SXSW: Marissa M...</td>\n",
       "      <td>Google</td>\n",
       "      <td>Positive emotion</td>\n",
       "    </tr>\n",
       "  </tbody>\n",
       "</table>\n",
       "</div>"
      ],
      "text/plain": [
       "                                          tweet_text  \\\n",
       "0  .@wesley83 I have a 3G iPhone. After 3 hrs twe...   \n",
       "1  @jessedee Know about @fludapp ? Awesome iPad/i...   \n",
       "2  @swonderlin Can not wait for #iPad 2 also. The...   \n",
       "3  @sxsw I hope this year's festival isn't as cra...   \n",
       "4  @sxtxstate great stuff on Fri #SXSW: Marissa M...   \n",
       "\n",
       "  emotion_in_tweet_is_directed_at  \\\n",
       "0                          iPhone   \n",
       "1              iPad or iPhone App   \n",
       "2                            iPad   \n",
       "3              iPad or iPhone App   \n",
       "4                          Google   \n",
       "\n",
       "  is_there_an_emotion_directed_at_a_brand_or_product  \n",
       "0                                   Negative emotion  \n",
       "1                                   Positive emotion  \n",
       "2                                   Positive emotion  \n",
       "3                                   Negative emotion  \n",
       "4                                   Positive emotion  "
      ]
     },
     "execution_count": 3,
     "metadata": {},
     "output_type": "execute_result"
    }
   ],
   "source": [
    "## Loading in raw data + quick check\n",
    "df = pd.read_csv('judge-1377884607_tweet_product_company.csv', encoding='latin-1')\n",
    "df.head()"
   ]
  },
  {
   "cell_type": "markdown",
   "metadata": {},
   "source": [
    "> This dataset was *really* easy to plug-and-play with. In addition, one benefit to using ANNs for NLP is that it can learn from the sequence of words in order, meaning that the amount of preprocessing can be minimal prior to modeling begins. "
   ]
  },
  {
   "cell_type": "code",
   "execution_count": 4,
   "metadata": {
    "ExecuteTime": {
     "end_time": "2020-06-20T22:27:04.539949Z",
     "start_time": "2020-06-20T22:27:04.517294Z"
    }
   },
   "outputs": [
    {
     "name": "stdout",
     "output_type": "stream",
     "text": [
      "<class 'pandas.core.frame.DataFrame'>\n",
      "RangeIndex: 9093 entries, 0 to 9092\n",
      "Data columns (total 3 columns):\n",
      "tweet_text                                            9092 non-null object\n",
      "emotion_in_tweet_is_directed_at                       3291 non-null object\n",
      "is_there_an_emotion_directed_at_a_brand_or_product    9093 non-null object\n",
      "dtypes: object(3)\n",
      "memory usage: 213.2+ KB\n"
     ]
    }
   ],
   "source": [
    "## Broad-scoped check\n",
    "df.info()"
   ]
  },
  {
   "cell_type": "markdown",
   "metadata": {},
   "source": [
    "> There are just under 2/3 of the data missing for the `emotion_in_tweet_is_directed_at` column. I will not include this for my sentiment analysis but I do think that it could be useful for me later in terms of guessing what product the tweet is talking about.\n",
    "* Otherwise I only need to address the **one** null value in `tweet_text`."
   ]
  },
  {
   "cell_type": "code",
   "execution_count": 5,
   "metadata": {
    "ExecuteTime": {
     "end_time": "2020-06-20T22:27:57.006356Z",
     "start_time": "2020-06-20T22:27:56.985100Z"
    }
   },
   "outputs": [
    {
     "data": {
      "text/html": [
       "<div>\n",
       "<style scoped>\n",
       "    .dataframe tbody tr th:only-of-type {\n",
       "        vertical-align: middle;\n",
       "    }\n",
       "\n",
       "    .dataframe tbody tr th {\n",
       "        vertical-align: top;\n",
       "    }\n",
       "\n",
       "    .dataframe thead th {\n",
       "        text-align: right;\n",
       "    }\n",
       "</style>\n",
       "<table border=\"1\" class=\"dataframe\">\n",
       "  <thead>\n",
       "    <tr style=\"text-align: right;\">\n",
       "      <th></th>\n",
       "      <th>tweet_text</th>\n",
       "      <th>emotion_in_tweet_is_directed_at</th>\n",
       "      <th>is_there_an_emotion_directed_at_a_brand_or_product</th>\n",
       "    </tr>\n",
       "  </thead>\n",
       "  <tbody>\n",
       "    <tr>\n",
       "      <th>6</th>\n",
       "      <td>NaN</td>\n",
       "      <td>NaN</td>\n",
       "      <td>No emotion toward brand or product</td>\n",
       "    </tr>\n",
       "  </tbody>\n",
       "</table>\n",
       "</div>"
      ],
      "text/plain": [
       "  tweet_text emotion_in_tweet_is_directed_at  \\\n",
       "6        NaN                             NaN   \n",
       "\n",
       "  is_there_an_emotion_directed_at_a_brand_or_product  \n",
       "6                 No emotion toward brand or product  "
      ]
     },
     "execution_count": 5,
     "metadata": {},
     "output_type": "execute_result"
    }
   ],
   "source": [
    "## Verifying location of null value\n",
    "df.loc[df['tweet_text'].isna()]"
   ]
  },
  {
   "cell_type": "code",
   "execution_count": 6,
   "metadata": {
    "ExecuteTime": {
     "end_time": "2020-06-20T22:28:16.172958Z",
     "start_time": "2020-06-20T22:28:16.135436Z"
    }
   },
   "outputs": [
    {
     "name": "stdout",
     "output_type": "stream",
     "text": [
      "Total # of null values by column:\n"
     ]
    },
    {
     "data": {
      "text/plain": [
       "tweet_text                                            0\n",
       "is_there_an_emotion_directed_at_a_brand_or_product    0\n",
       "dtype: int64"
      ]
     },
     "metadata": {},
     "output_type": "display_data"
    }
   ],
   "source": [
    "## NA removal + sanity check + version control\n",
    "df_prep = df.drop(index=6, columns='emotion_in_tweet_is_directed_at').copy()\n",
    "print('Total # of null values by column:')\n",
    "display(df_prep.isna().sum())"
   ]
  },
  {
   "cell_type": "markdown",
   "metadata": {},
   "source": [
    "> With all of the null values being removed, the next step will be the train-test split and creation of my target variable."
   ]
  },
  {
   "cell_type": "markdown",
   "metadata": {},
   "source": [
    "## Train-Test Split"
   ]
  },
  {
   "cell_type": "code",
   "execution_count": 7,
   "metadata": {
    "ExecuteTime": {
     "end_time": "2020-06-20T22:33:21.141829Z",
     "start_time": "2020-06-20T22:33:21.134660Z"
    }
   },
   "outputs": [],
   "source": [
    "## Creating the variables\n",
    "X = df_prep['tweet_text'].copy()\n",
    "y = df_prep['is_there_an_emotion_directed_at_a_brand_or_product'].copy()"
   ]
  },
  {
   "cell_type": "markdown",
   "metadata": {},
   "source": [
    "> Models require text data to be put into a numerical representation to allow for learning. I need to create a `target` variable for my model to evaluate its performance upon."
   ]
  },
  {
   "cell_type": "code",
   "execution_count": 8,
   "metadata": {
    "ExecuteTime": {
     "end_time": "2020-06-20T22:33:24.201055Z",
     "start_time": "2020-06-20T22:33:24.180527Z"
    }
   },
   "outputs": [
    {
     "name": "stdout",
     "output_type": "stream",
     "text": [
      "Counts by class:\n"
     ]
    },
    {
     "data": {
      "text/plain": [
       "1    5544\n",
       "2    2978\n",
       "0     570\n",
       "Name: is_there_an_emotion_directed_at_a_brand_or_product, dtype: int64"
      ]
     },
     "execution_count": 8,
     "metadata": {},
     "output_type": "execute_result"
    }
   ],
   "source": [
    "## Setting dictionary for which y-values will be mapped to\n",
    "values = {'No emotion toward brand or product': 1, 'Positive emotion': 2,\n",
    "          'Negative emotion': 0, \"I can't tell\": 1}\n",
    "y = y.map(values)\n",
    "\n",
    "print('Counts by class:')\n",
    "y.value_counts()"
   ]
  },
  {
   "cell_type": "code",
   "execution_count": 9,
   "metadata": {
    "ExecuteTime": {
     "end_time": "2020-06-20T22:36:38.341961Z",
     "start_time": "2020-06-20T22:36:38.327225Z"
    }
   },
   "outputs": [
    {
     "name": "stdout",
     "output_type": "stream",
     "text": [
      "OHE'd target values:\n"
     ]
    },
    {
     "data": {
      "text/plain": [
       "array([[1., 0., 0.],\n",
       "       [0., 0., 1.],\n",
       "       [0., 0., 1.],\n",
       "       ...,\n",
       "       [0., 1., 0.],\n",
       "       [0., 1., 0.],\n",
       "       [0., 1., 0.]], dtype=float32)"
      ]
     },
     "metadata": {},
     "output_type": "display_data"
    }
   ],
   "source": [
    "## Converting pandas series into one-hot encoded 2D array\n",
    "y_ohe = to_categorical(y)\n",
    "\n",
    "print(\"OHE'd target values:\")\n",
    "display(y_ohe)"
   ]
  },
  {
   "cell_type": "code",
   "execution_count": 11,
   "metadata": {
    "ExecuteTime": {
     "end_time": "2020-06-20T22:37:39.397871Z",
     "start_time": "2020-06-20T22:37:39.369831Z"
    }
   },
   "outputs": [
    {
     "name": "stdout",
     "output_type": "stream",
     "text": [
      "First item in training data:\n"
     ]
    },
    {
     "data": {
      "text/plain": [
       "'Forgot my iPhone for #sxsw. Android only. Knife to a gun fight'"
      ]
     },
     "execution_count": 11,
     "metadata": {},
     "output_type": "execute_result"
    }
   ],
   "source": [
    "## 70/30 Train-test split w/stratify to help with class imbalance + q.c.\n",
    "X_train, X_test, y_train, y_test = train_test_split(X, y_ohe, test_size=0.3,\n",
    "                                                    stratify=y, random_state=333)\n",
    "\n",
    "print('First item in training data:')\n",
    "X_train[X_train.first_valid_index()]"
   ]
  },
  {
   "cell_type": "markdown",
   "metadata": {},
   "source": [
    "## Tokenize + Sequence + SMOTE"
   ]
  },
  {
   "cell_type": "markdown",
   "metadata": {},
   "source": [
    "> In order to comply with Keras' requirements, I need to re-process the text with their `Tokenizer` class followed by a conversion to a padded sequence.\n"
   ]
  },
  {
   "cell_type": "code",
   "execution_count": 12,
   "metadata": {
    "ExecuteTime": {
     "end_time": "2020-06-20T22:38:32.214942Z",
     "start_time": "2020-06-20T22:38:31.428506Z"
    }
   },
   "outputs": [],
   "source": [
    "## Tokenize + convert to padded sequences\n",
    "tokenizer = text.Tokenizer()\n",
    "tokenizer.fit_on_texts(X_train)\n",
    "\n",
    "X_tr_seq = tokenizer.texts_to_sequences(X_train)\n",
    "X_tr_seq = sequence.pad_sequences(X_tr_seq, maxlen=100)\n",
    "\n",
    "X_te_seq = tokenizer.texts_to_sequences(X_test)\n",
    "X_te_seq = sequence.pad_sequences(X_te_seq, maxlen=100)"
   ]
  },
  {
   "cell_type": "code",
   "execution_count": 13,
   "metadata": {
    "ExecuteTime": {
     "end_time": "2020-06-20T22:38:47.263144Z",
     "start_time": "2020-06-20T22:38:47.242161Z"
    }
   },
   "outputs": [
    {
     "name": "stdout",
     "output_type": "stream",
     "text": [
      "First index item in its sequenced (truncated) and text-form:\n",
      "\n"
     ]
    },
    {
     "data": {
      "text/plain": [
       "array([   0,    0,    0,    0,    0,    0,    0,    0, 1219,   29,   18,\n",
       "          8,    1,   40,  112, 3119,    5,   11, 1120,  677])"
      ]
     },
     "metadata": {},
     "output_type": "display_data"
    },
    {
     "data": {
      "text/plain": [
       "['forgot my iphone for sxsw android only knife to a gun fight']"
      ]
     },
     "metadata": {},
     "output_type": "display_data"
    }
   ],
   "source": [
    "## Quick check\n",
    "print('First index item in its sequenced (truncated) and text-form:\\n')\n",
    "display((X_tr_seq[0, 80:100]), (tokenizer.sequences_to_texts([X_tr_seq[0]])))"
   ]
  },
  {
   "cell_type": "code",
   "execution_count": 23,
   "metadata": {
    "ExecuteTime": {
     "end_time": "2020-06-20T22:44:38.145101Z",
     "start_time": "2020-06-20T22:44:38.121256Z"
    }
   },
   "outputs": [
    {
     "name": "stdout",
     "output_type": "stream",
     "text": [
      "Class distribution in training data:\n"
     ]
    },
    {
     "data": {
      "text/plain": [
       "1    0.609837\n",
       "2    0.327467\n",
       "0    0.062696\n",
       "dtype: float64"
      ]
     },
     "execution_count": 23,
     "metadata": {},
     "output_type": "execute_result"
    }
   ],
   "source": [
    "## Q.c of class distribution\n",
    "print('Class distribution in training data:')\n",
    "pd.Series(y_train.argmax(axis=1)).value_counts(normalize=True)"
   ]
  },
  {
   "cell_type": "markdown",
   "metadata": {},
   "source": [
    "> I will applying imblearn's SMOTE synthetic oversampler to address my class imbalance.\n",
    "\n",
    "> I came to this decision after training some models with the distribution *as-is*. This lead to the models over-fitting quickly to predict class 1 (Neutral emotion). This allowed them to achieve higher scores by only predicting this class. There are many options to go with in regards to oversampling, but I went with SMOTE due to its synthetic nature. This (in theory) will help prevent overfitting due to repetition of the same values that would otherwise be made with other methods."
   ]
  },
  {
   "cell_type": "code",
   "execution_count": 24,
   "metadata": {
    "ExecuteTime": {
     "end_time": "2020-06-20T22:48:22.016084Z",
     "start_time": "2020-06-20T22:48:19.793043Z"
    }
   },
   "outputs": [],
   "source": [
    "## Applying SMOTE to address class imbalance\n",
    "smt = SMOTE(random_state=333)\n",
    "X_tr_seq_smt, y_tr_smt = smt.fit_sample(X_tr_seq, y_train)"
   ]
  },
  {
   "cell_type": "code",
   "execution_count": 26,
   "metadata": {
    "ExecuteTime": {
     "end_time": "2020-06-20T22:49:20.886853Z",
     "start_time": "2020-06-20T22:49:20.864270Z"
    }
   },
   "outputs": [
    {
     "name": "stdout",
     "output_type": "stream",
     "text": [
      "Class distribution in training data (after balancing):\n"
     ]
    },
    {
     "data": {
      "text/plain": [
       "2    0.333333\n",
       "1    0.333333\n",
       "0    0.333333\n",
       "dtype: float64"
      ]
     },
     "execution_count": 26,
     "metadata": {},
     "output_type": "execute_result"
    }
   ],
   "source": [
    "## Q.c of class distribution\n",
    "print('Class distribution in training data (after balancing):')\n",
    "pd.Series(y_tr_smt.argmax(axis=1)).value_counts(normalize=True)"
   ]
  },
  {
   "cell_type": "markdown",
   "metadata": {},
   "source": [
    "# Building a 'baseline'"
   ]
  },
  {
   "cell_type": "markdown",
   "metadata": {
    "heading_collapsed": true
   },
   "source": [
    "## Instantiation"
   ]
  },
  {
   "cell_type": "markdown",
   "metadata": {
    "hidden": true
   },
   "source": [
    "> Now I will build a baseline model to use a reference point for any tweaks I make during the tuning process. This model will include an embedding layer and two hidden layers; one LSTM and one Dense. The output layer will be Dense as well, with the required softmax activation function since we have more than two classes as possible predictions."
   ]
  },
  {
   "cell_type": "code",
   "execution_count": 27,
   "metadata": {
    "ExecuteTime": {
     "end_time": "2020-06-20T23:09:19.963125Z",
     "start_time": "2020-06-20T23:09:19.537166Z"
    },
    "hidden": true
   },
   "outputs": [],
   "source": [
    "## Instantiate model + select embedding size\n",
    "model = Sequential()\n",
    "embedding_size = 128"
   ]
  },
  {
   "cell_type": "markdown",
   "metadata": {
    "hidden": true
   },
   "source": [
    "> I am choosing an embedding size of 128 as it is a common convention for ANNs performing this kind of task."
   ]
  },
  {
   "cell_type": "markdown",
   "metadata": {},
   "source": [
    "## Compilation"
   ]
  },
  {
   "cell_type": "markdown",
   "metadata": {},
   "source": [
    "> Reasoning for model:\n",
    "* `LSTM` layer is added to help retain the information intelligently gained from the ordered sequences\n",
    "* `GlobalMaxPool1D` is necessary to transform a matrix into a 1-Dimensional representation that is compatible with the following Dense layer\n",
    "* `Dropout` is added as a regularization measure to aid in generalization of what is learned by the model\n",
    "* `'relu'` activation function is used to help mitigate exploding/vanishing gradient problem\n",
    "* `'adam'` optimizer due to its adaptive capabilities with respect to the learning rate\n",
    "* `'accuracy'` as the metric since I will be looking to correctly identify the sentiment correctly across all classes"
   ]
  },
  {
   "cell_type": "code",
   "execution_count": 28,
   "metadata": {
    "ExecuteTime": {
     "end_time": "2020-06-20T23:12:07.392628Z",
     "start_time": "2020-06-20T23:12:06.780183Z"
    }
   },
   "outputs": [
    {
     "name": "stdout",
     "output_type": "stream",
     "text": [
      "Model: \"sequential_1\"\n",
      "_________________________________________________________________\n",
      "Layer (type)                 Output Shape              Param #   \n",
      "=================================================================\n",
      "embedding_1 (Embedding)      (None, None, 128)         1104896   \n",
      "_________________________________________________________________\n",
      "lstm_1 (LSTM)                (None, None, 20)          11920     \n",
      "_________________________________________________________________\n",
      "global_max_pooling1d_1 (Glob (None, 20)                0         \n",
      "_________________________________________________________________\n",
      "dropout_1 (Dropout)          (None, 20)                0         \n",
      "_________________________________________________________________\n",
      "dense_1 (Dense)              (None, 10)                210       \n",
      "_________________________________________________________________\n",
      "dropout_2 (Dropout)          (None, 10)                0         \n",
      "_________________________________________________________________\n",
      "dense_2 (Dense)              (None, 3)                 33        \n",
      "=================================================================\n",
      "Total params: 1,117,059\n",
      "Trainable params: 1,117,059\n",
      "Non-trainable params: 0\n",
      "_________________________________________________________________\n"
     ]
    }
   ],
   "source": [
    "## To be added as 'input_dim' for input layer\n",
    "num_words = X_tr_seq.max() + 1\n",
    "num_words\n",
    "\n",
    "## Input layer (input) + dimensions for learning\n",
    "model.add(Embedding(num_words, embedding_size))\n",
    "\n",
    "## 1st hidden layer + Pooling to 1d representation + dropout regularization\n",
    "model.add(LSTM(20, return_sequences=True))\n",
    "model.add(GlobalMaxPool1D())\n",
    "model.add(Dropout(0.3))\n",
    "\n",
    "## 2nd hidden layer + dropout reg.\n",
    "model.add(Dense(10, activation='relu'))\n",
    "model.add(Dropout(0.3))\n",
    "\n",
    "## Output layer \n",
    "model.add(Dense(3, activation='softmax'))\n",
    "\n",
    "## Compliling model to use Adam / accuracy metric\n",
    "model.compile(loss='categorical_crossentropy', \n",
    "              optimizer='adam', \n",
    "              metrics=['accuracy'])\n",
    "\n",
    "## Q.C\n",
    "model.summary()"
   ]
  },
  {
   "cell_type": "markdown",
   "metadata": {},
   "source": [
    "## Training"
   ]
  },
  {
   "cell_type": "code",
   "execution_count": 29,
   "metadata": {
    "ExecuteTime": {
     "end_time": "2020-06-20T23:29:43.210344Z",
     "start_time": "2020-06-20T23:29:41.738955Z"
    }
   },
   "outputs": [],
   "source": [
    "## Instantiate custom timer class to track training times\n",
    "t1 = dlf.Timer()"
   ]
  },
  {
   "cell_type": "markdown",
   "metadata": {},
   "source": [
    "> I am going to add a validation split of 30% of the training data for the model to evaluate each epochs predictions upon before back-propagation. This will hopefully reduce over-fitting as well."
   ]
  },
  {
   "cell_type": "code",
   "execution_count": 30,
   "metadata": {
    "ExecuteTime": {
     "end_time": "2020-06-20T23:43:39.941316Z",
     "start_time": "2020-06-20T23:33:36.544307Z"
    }
   },
   "outputs": [
    {
     "name": "stdout",
     "output_type": "stream",
     "text": [
      "Train on 8150 samples, validate on 3493 samples\n",
      "Epoch 1/25\n",
      " - 26s - loss: 1.0513 - accuracy: 0.4724 - val_loss: 1.2949 - val_accuracy: 0.0000e+00\n",
      "Epoch 2/25\n",
      " - 18s - loss: 0.9331 - accuracy: 0.5266 - val_loss: 1.2893 - val_accuracy: 0.2814\n",
      "Epoch 3/25\n",
      " - 18s - loss: 0.7369 - accuracy: 0.6897 - val_loss: 1.5996 - val_accuracy: 0.4194\n",
      "Epoch 4/25\n",
      " - 25s - loss: 0.5710 - accuracy: 0.7697 - val_loss: 1.9918 - val_accuracy: 0.4054\n",
      "Epoch 5/25\n",
      " - 26s - loss: 0.4743 - accuracy: 0.8160 - val_loss: 2.3661 - val_accuracy: 0.4526\n",
      "Epoch 6/25\n",
      " - 26s - loss: 0.3934 - accuracy: 0.8518 - val_loss: 2.7185 - val_accuracy: 0.4549\n",
      "Epoch 7/25\n",
      " - 28s - loss: 0.3354 - accuracy: 0.8782 - val_loss: 2.8420 - val_accuracy: 0.4541\n",
      "Epoch 8/25\n",
      " - 21s - loss: 0.3058 - accuracy: 0.8875 - val_loss: 3.2539 - val_accuracy: 0.4475\n",
      "Epoch 9/25\n",
      " - 20s - loss: 0.2913 - accuracy: 0.9006 - val_loss: 3.4715 - val_accuracy: 0.4469\n",
      "Epoch 10/25\n",
      " - 26s - loss: 0.2624 - accuracy: 0.9063 - val_loss: 3.6976 - val_accuracy: 0.4646\n",
      "Epoch 11/25\n",
      " - 20s - loss: 0.2402 - accuracy: 0.9104 - val_loss: 3.7277 - val_accuracy: 0.4363\n",
      "Epoch 12/25\n",
      " - 28s - loss: 0.2231 - accuracy: 0.9169 - val_loss: 4.0622 - val_accuracy: 0.4457\n",
      "Epoch 13/25\n",
      " - 28s - loss: 0.2187 - accuracy: 0.9184 - val_loss: 4.6843 - val_accuracy: 0.4123\n",
      "Epoch 14/25\n",
      " - 28s - loss: 0.2101 - accuracy: 0.9222 - val_loss: 4.3942 - val_accuracy: 0.4397\n",
      "Epoch 15/25\n",
      " - 18s - loss: 0.2051 - accuracy: 0.9209 - val_loss: 4.9457 - val_accuracy: 0.4234\n",
      "Epoch 16/25\n",
      " - 28s - loss: 0.1771 - accuracy: 0.9309 - val_loss: 4.9200 - val_accuracy: 0.4543\n",
      "Epoch 17/25\n",
      " - 18s - loss: 0.1832 - accuracy: 0.9297 - val_loss: 4.9116 - val_accuracy: 0.4641\n",
      "Epoch 18/25\n",
      " - 28s - loss: 0.1842 - accuracy: 0.9292 - val_loss: 5.5658 - val_accuracy: 0.4386\n",
      "Epoch 19/25\n",
      " - 21s - loss: 0.1696 - accuracy: 0.9342 - val_loss: 5.6213 - val_accuracy: 0.4108\n",
      "Epoch 20/25\n",
      " - 23s - loss: 0.1536 - accuracy: 0.9404 - val_loss: 5.9221 - val_accuracy: 0.4254\n",
      "Epoch 21/25\n",
      " - 27s - loss: 0.1539 - accuracy: 0.9391 - val_loss: 5.6479 - val_accuracy: 0.4409\n",
      "Epoch 22/25\n",
      " - 28s - loss: 0.1553 - accuracy: 0.9416 - val_loss: 5.4108 - val_accuracy: 0.4217\n",
      "Epoch 23/25\n",
      " - 28s - loss: 0.1494 - accuracy: 0.9413 - val_loss: 6.1013 - val_accuracy: 0.4188\n",
      "Epoch 24/25\n",
      " - 28s - loss: 0.1429 - accuracy: 0.9447 - val_loss: 6.7462 - val_accuracy: 0.4294\n",
      "Epoch 25/25\n",
      " - 19s - loss: 0.1348 - accuracy: 0.9470 - val_loss: 6.4509 - val_accuracy: 0.4386\n",
      "\n",
      "\n",
      "---- Timer stopped at: 06/20/2020 - 04:43 PM ----\n",
      "---- Time elasped: 0:10:03.386249 ----\n"
     ]
    }
   ],
   "source": [
    "## Training!\n",
    "t1.start()\n",
    "history1 = model.fit(X_tr_seq_smt, y_tr_smt, batch_size=64, epochs=25, validation_split=0.3, verbose=2)\n",
    "print('\\n')\n",
    "t1.stop()"
   ]
  },
  {
   "cell_type": "markdown",
   "metadata": {},
   "source": [
    "## Evaluation"
   ]
  },
  {
   "cell_type": "markdown",
   "metadata": {},
   "source": [
    "> I am going to put the training results into a visualization so that I can get a gauge on how well the training process itself is going."
   ]
  },
  {
   "cell_type": "code",
   "execution_count": 31,
   "metadata": {
    "ExecuteTime": {
     "end_time": "2020-06-21T00:11:37.977467Z",
     "start_time": "2020-06-21T00:11:37.221318Z"
    }
   },
   "outputs": [
    {
     "data": {
      "image/png": "[encoded data removed]",
      "text/plain": [
       "<Figure size 1008x396 with 2 Axes>"
      ]
     },
     "metadata": {
      "needs_background": "light"
     },
     "output_type": "display_data"
    }
   ],
   "source": [
    "## Figure, axes to plot results\n",
    "fig, ax = plt.subplots(ncols=2, figsize=(14,5.5))\n",
    "\n",
    "## Converting metrics in history object to Df for ease of plotting\n",
    "res_df1 = pd.DataFrame(history1.history)\n",
    "\n",
    "## Accuracy plot\n",
    "res_df1[['val_accuracy', 'accuracy']].plot(title='Validation vs. Training Accuracy', ax=ax[0])\n",
    "ax[0].grid(color='w')\n",
    "ax[0].set_facecolor('#e8e8e8')\n",
    "\n",
    "## Loss plot + reveal\n",
    "res_df1[['val_loss', 'loss']].plot(title='Validation vs. Training Loss', ax=ax[1])\n",
    "ax[1].grid(color='w')\n",
    "ax[1].set_facecolor('#e8e8e8')\n",
    "plt.show();"
   ]
  },
  {
   "cell_type": "markdown",
   "metadata": {},
   "source": [
    "> Since this is ultimately a classification problem, I will make use of the `classification_report` and `confusion_matrix` functions from Sklearn's metrics module to display and visualize my model's perfomance."
   ]
  },
  {
   "cell_type": "code",
   "execution_count": 32,
   "metadata": {
    "ExecuteTime": {
     "end_time": "2020-06-21T00:20:17.011210Z",
     "start_time": "2020-06-21T00:20:14.454826Z"
    }
   },
   "outputs": [
    {
     "name": "stdout",
     "output_type": "stream",
     "text": [
      "Classification Report:\n",
      "\n",
      "              precision    recall  f1-score   support\n",
      "\n",
      "           0       0.22      0.36      0.27       171\n",
      "           1       0.74      0.68      0.71      1663\n",
      "           2       0.54      0.56      0.55       894\n",
      "\n",
      "    accuracy                           0.62      2728\n",
      "   macro avg       0.50      0.53      0.51      2728\n",
      "weighted avg       0.64      0.62      0.63      2728\n",
      "\n"
     ]
    },
    {
     "data": {
      "image/png": "[encoded data removed]",
      "text/plain": [
       "<Figure size 432x288 with 2 Axes>"
      ]
     },
     "metadata": {
      "needs_background": "light"
     },
     "output_type": "display_data"
    }
   ],
   "source": [
    "## Create predictions to use with sklearn classif. report\n",
    "y_hat_te = model.predict(X_te_seq)\n",
    "\n",
    "## Coercing ohe + probabilities into class predictions \n",
    "y_test_cls = y_test.argmax(axis=1)\n",
    "y_hat_te_cls = y_hat_te.argmax(axis=1)\n",
    "\n",
    "## Results!\n",
    "print('Classification Report:\\n')\n",
    "print(metrics.classification_report(y_test_cls, y_hat_te_cls))\n",
    "\n",
    "## Creating raw normalized conf. matrix\n",
    "cm = metrics.confusion_matrix(y_test_cls, y_hat_te_cls, normalize='true')\n",
    "\n",
    "## Setting labels for custom function + display\n",
    "labels = ['Negative', 'Neutral', 'Positive']\n",
    "dlf.plot_confusion_matrix(cm, labels)"
   ]
  },
  {
   "cell_type": "markdown",
   "metadata": {},
   "source": [
    "> **62% accuracy** is a good start! The plots definitely show evidence of *overfitting*, as the validation accuracy is much lower (and fluctuating) while the training accuracy and validation loss continue to increase."
   ]
  },
  {
   "cell_type": "markdown",
   "metadata": {},
   "source": [
    "> In an effort to help the model address this issue, I will see if using pre-trained word embeddings in addition to tweaking the baseline model itself to attempt to increase overall accuracy."
   ]
  },
  {
   "cell_type": "markdown",
   "metadata": {},
   "source": [
    "# Transfer Learning"
   ]
  },
  {
   "cell_type": "markdown",
   "metadata": {},
   "source": [
    "## Word2Vec"
   ]
  },
  {
   "cell_type": "markdown",
   "metadata": {
    "heading_collapsed": true
   },
   "source": [
    "### Tokenizing"
   ]
  },
  {
   "cell_type": "markdown",
   "metadata": {
    "hidden": true
   },
   "source": [
    "> NLTK offers two different tokenizers I felt could be compared with regards to my model's performance. The first being a generalized function, `word_tokenize()`, and the second being an object with a tokenizer specific to tweets, `TweetTokenizer`."
   ]
  },
  {
   "cell_type": "code",
   "execution_count": 45,
   "metadata": {
    "ExecuteTime": {
     "end_time": "2020-06-21T01:06:39.424204Z",
     "start_time": "2020-06-21T01:06:33.004334Z"
    },
    "hidden": true
   },
   "outputs": [
    {
     "name": "stdout",
     "output_type": "stream",
     "text": [
      "General Tokenizer:\n"
     ]
    },
    {
     "data": {
      "text/plain": [
       "0    [., @, wesley83, I, have, a, 3G, iPhone, ., Af...\n",
       "1    [@, jessedee, Know, about, @, fludapp, ?, Awes...\n",
       "2    [@, swonderlin, Can, not, wait, for, #, iPad, ...\n",
       "3    [@, sxsw, I, hope, this, year, 's, festival, i...\n",
       "4    [@, sxtxstate, great, stuff, on, Fri, #, SXSW,...\n",
       "Name: tweet_text, dtype: object"
      ]
     },
     "metadata": {},
     "output_type": "display_data"
    },
    {
     "name": "stdout",
     "output_type": "stream",
     "text": [
      "\n",
      "Tweet Tokenizer:\n"
     ]
    },
    {
     "data": {
      "text/plain": [
       "0    [., I, have, a, 3G, iPhone, ., After, 3, hrs, ...\n",
       "1    [Know, about, ?, Awesome, iPad, /, iPhone, app...\n",
       "2    [Can, not, wait, for, #iPad, 2, also, ., They,...\n",
       "3    [I, hope, this, year's, festival, isn't, as, c...\n",
       "4    [great, stuff, on, Fri, #SXSW, :, Marissa, May...\n",
       "Name: tweet_text, dtype: object"
      ]
     },
     "metadata": {},
     "output_type": "display_data"
    }
   ],
   "source": [
    "## Converting tweets into lists of tokens + q.c.\n",
    "tokens = df_prep['tweet_text'].map(word_tokenize)\n",
    "print('General Tokenizer:')\n",
    "display(tokens[:5])\n",
    "\n",
    "print('\\nTweet Tokenizer:')\n",
    "twt_tkzr = TweetTokenizer(strip_handles=True)\n",
    "twt_tokens = df_prep['tweet_text'].map(twt_tkzr.tokenize)\n",
    "display(twt_tokens[:5])"
   ]
  },
  {
   "cell_type": "markdown",
   "metadata": {
    "hidden": true
   },
   "source": [
    "> In my exploration of these two tokenizers they *do not* have a significant impact on the performance of my models. For sake of brevity I will omit the testing done with `word_tokenize()`."
   ]
  },
  {
   "cell_type": "markdown",
   "metadata": {
    "heading_collapsed": true
   },
   "source": [
    "### Re-cleaning"
   ]
  },
  {
   "cell_type": "markdown",
   "metadata": {
    "hidden": true
   },
   "source": [
    "> When creating the model that learns the word embeddings, you need to input a `size` parameter that determines the size of the feature vector that will be learned for each word. In order to make sure I use the appropriate value, I need to determine the size of my corpus.\n",
    "\n",
    "> Additionally, I will want to apply more traditional cleaning techniques to give the pre-trained embeddings the best chance at a good score. Doing so *prior* to determining this size parameter is crucial to ensuring I have the right value."
   ]
  },
  {
   "cell_type": "code",
   "execution_count": 89,
   "metadata": {
    "ExecuteTime": {
     "end_time": "2020-06-21T01:46:02.160127Z",
     "start_time": "2020-06-21T01:46:02.146661Z"
    },
    "hidden": true
   },
   "outputs": [
    {
     "name": "stdout",
     "output_type": "stream",
     "text": [
      "From Tokenizer:\n",
      "['Anyone', 'at', '#sxsw', 'want', 'to', 'sell', 'their', 'old', 'iPad', '?'] \n",
      "\n",
      "Stop words removed:\n",
      "['Anyone', '#SXSW', 'bought', 'new', 'iPad', 'want', 'sell', 'older', 'iPad'] \n",
      "\n"
     ]
    }
   ],
   "source": [
    "## Grabbing preset stopword list from nltk \n",
    "stop_words = list(stopwords.words('english'))\n",
    "\n",
    "## Grabbing common punctuation from python + ensuring hashtags survive\n",
    "punct = list(string.punctuation)\n",
    "punct.remove('#')\n",
    "\n",
    "## Combining the two lists\n",
    "stop_words.extend(list(string.punctuation))\n",
    "\n",
    "## Creating new list w/o stopwords + punctuation\n",
    "twt_tokens_cln = []\n",
    "\n",
    "for twt in twt_tokens:\n",
    "    new_twt = [word for word in twt if not word in stop_words]\n",
    "    twt_tokens_cln.append(new_twt)\n",
    "    \n",
    "## Q.C.\n",
    "print('From Tokenizer:')\n",
    "print(twt_tokens[33], '\\n')\n",
    "print('Stop words removed:')\n",
    "print(twt_tokens_cln[33], '\\n')"
   ]
  },
  {
   "cell_type": "code",
   "execution_count": 107,
   "metadata": {
    "ExecuteTime": {
     "end_time": "2020-06-21T02:18:26.791361Z",
     "start_time": "2020-06-21T02:18:19.467856Z"
    },
    "hidden": true
   },
   "outputs": [
    {
     "name": "stdout",
     "output_type": "stream",
     "text": [
      "Total amount of words in corpus:\n",
      "13144\n"
     ]
    }
   ],
   "source": [
    "vocab = []\n",
    "\n",
    "for twt in twt_tokens_cln:\n",
    "    for word in twt:\n",
    "        if not word in vocab:\n",
    "            vocab.append(word)\n",
    "\n",
    "tot_vocab = len(set(vocab))\n",
    "print('Total amount of words in corpus:')\n",
    "print(tot_vocab)"
   ]
  },
  {
   "cell_type": "markdown",
   "metadata": {
    "hidden": true
   },
   "source": [
    "> Although my internet research proved unfruitful in determining any proper heuristics, most agree that 100-300 is an acceptable range to use. Having over 13,000 tokens to deal with, I will use a size of 200 in my Word2Vec model."
   ]
  },
  {
   "cell_type": "markdown",
   "metadata": {
    "heading_collapsed": true
   },
   "source": [
    "### Vectorizing"
   ]
  },
  {
   "cell_type": "code",
   "execution_count": 95,
   "metadata": {
    "ExecuteTime": {
     "end_time": "2020-06-21T02:09:35.186208Z",
     "start_time": "2020-06-21T02:09:28.472194Z"
    },
    "hidden": true
   },
   "outputs": [
    {
     "data": {
      "text/plain": [
       "(1827886, 2266700)"
      ]
     },
     "execution_count": 95,
     "metadata": {},
     "output_type": "execute_result"
    }
   ],
   "source": [
    "## Creating + training 'model'\n",
    "w2v_t_mod = word2vec.Word2Vec(twt_tokens_cln, size=200, window=5, min_count=1, workers=4)\n",
    "w2v_t_mod.train(twt_tokens_cln, total_examples=w2v_t_mod.corpus_count, epochs=20)"
   ]
  },
  {
   "cell_type": "code",
   "execution_count": 109,
   "metadata": {
    "ExecuteTime": {
     "end_time": "2020-06-21T02:20:18.971985Z",
     "start_time": "2020-06-21T02:20:18.949921Z"
    },
    "hidden": true
   },
   "outputs": [
    {
     "data": {
      "text/plain": [
       "[('means', 0.8959876894950867),\n",
       " (\"Doesn't\", 0.8957831263542175),\n",
       " ('curiosity', 0.8902374505996704),\n",
       " ('Does', 0.8877235651016235),\n",
       " ('wonder', 0.879547655582428),\n",
       " ('Zero', 0.8748048543930054),\n",
       " ('Wooooo', 0.8646069765090942),\n",
       " ('favorited', 0.8635234832763672),\n",
       " ('ipads', 0.8593050241470337),\n",
       " ('Why', 0.8588266372680664)]"
      ]
     },
     "execution_count": 109,
     "metadata": {},
     "output_type": "execute_result"
    }
   ],
   "source": [
    "## Retrieving word vectors from 'model' + q.c.\n",
    "wv_t = w2v_t_mod.wv\n",
    "wv_t.similar_by_word('bad')"
   ]
  },
  {
   "cell_type": "markdown",
   "metadata": {},
   "source": [
    "### TT Split + Sequence + SMOTE"
   ]
  },
  {
   "cell_type": "markdown",
   "metadata": {},
   "source": [
    "> In order to ensure the best results for my model, I need to re-tool the training data to match that of the 'more clean' data fed into the Word2Vec model. I will leverage the `twt_tokens_cln` and `y_ohe` variables made earlier."
   ]
  },
  {
   "cell_type": "code",
   "execution_count": 138,
   "metadata": {
    "ExecuteTime": {
     "end_time": "2020-06-21T03:46:58.635456Z",
     "start_time": "2020-06-21T03:46:58.605538Z"
    }
   },
   "outputs": [
    {
     "name": "stdout",
     "output_type": "stream",
     "text": [
      "First item in training data:\n"
     ]
    },
    {
     "data": {
      "text/plain": [
       "['Forgot', 'iPhone', '#sxsw', 'Android', 'Knife', 'gun', 'fight']"
      ]
     },
     "execution_count": 138,
     "metadata": {},
     "output_type": "execute_result"
    }
   ],
   "source": [
    "## 70/30 Train-test split w/stratify to help with class imbalance + q.c.\n",
    "X_tr_cln, X_te_cln, y_tr_cln, y_te_cln = train_test_split(twt_tokens_cln, y_ohe,\n",
    "                                                          test_size=0.3, stratify=y,\n",
    "                                                          random_state=333)\n",
    "\n",
    "print('First item in training data:')\n",
    "X_tr_cln[0]"
   ]
  },
  {
   "cell_type": "code",
   "execution_count": 141,
   "metadata": {
    "ExecuteTime": {
     "end_time": "2020-06-21T03:51:28.078680Z",
     "start_time": "2020-06-21T03:51:28.059733Z"
    }
   },
   "outputs": [
    {
     "name": "stdout",
     "output_type": "stream",
     "text": [
      "Class distribution in training data:\n"
     ]
    },
    {
     "data": {
      "text/plain": [
       "1    0.609837\n",
       "2    0.327467\n",
       "0    0.062696\n",
       "dtype: float64"
      ]
     },
     "execution_count": 141,
     "metadata": {},
     "output_type": "execute_result"
    }
   ],
   "source": [
    "## Tokenize + convert to padded sequences\n",
    "tokenizer_2 = text.Tokenizer()\n",
    "tokenizer_2.fit_on_texts(X_train)\n",
    "\n",
    "X_tr_seq_cln = tokenizer_2.texts_to_sequences(X_tr_cln)\n",
    "X_tr_seq_cln = sequence.pad_sequences(X_tr_seq_cln, maxlen=100)\n",
    "\n",
    "X_te_seq_cln = tokenizer_2.texts_to_sequences(X_te_cln)\n",
    "X_te_seq_cln = sequence.pad_sequences(X_te_seq_cln, maxlen=100)\n",
    "\n",
    "## Q.c of class distribution\n",
    "print('Class distribution in training data:')\n",
    "pd.Series(y_tr_cln.argmax(axis=1)).value_counts(normalize=True)"
   ]
  },
  {
   "cell_type": "code",
   "execution_count": 143,
   "metadata": {
    "ExecuteTime": {
     "end_time": "2020-06-21T03:53:30.313425Z",
     "start_time": "2020-06-21T03:53:29.484682Z"
    }
   },
   "outputs": [
    {
     "name": "stdout",
     "output_type": "stream",
     "text": [
      "Class distribution in training data (after balancing):\n"
     ]
    },
    {
     "data": {
      "text/plain": [
       "2    0.333333\n",
       "1    0.333333\n",
       "0    0.333333\n",
       "dtype: float64"
      ]
     },
     "execution_count": 143,
     "metadata": {},
     "output_type": "execute_result"
    }
   ],
   "source": [
    "## SMOTE-ing\n",
    "smt2 = SMOTE(random_state=333)\n",
    "X_tr_seq_cln_smt, y_tr_cln_smt = smt2.fit_sample(X_tr_seq_cln, y_tr_cln)\n",
    "\n",
    "## Q.c of class distribution\n",
    "print('Class distribution in training data (after balancing):')\n",
    "pd.Series(y_tr_smt.argmax(axis=1)).value_counts(normalize=True)"
   ]
  },
  {
   "cell_type": "markdown",
   "metadata": {
    "heading_collapsed": true
   },
   "source": [
    "### Training"
   ]
  },
  {
   "cell_type": "markdown",
   "metadata": {
    "hidden": true
   },
   "source": [
    "> For sake of space, I have condensed my code into two custom functions with **tunable parameters**:\n",
    "* `make_model()`: Builds and compiles a Keras ANN with the same architecture as my baseline model (default setting)\n",
    "* `evaluate_model()`: Fits, predicts, prints, and visualizes the results of a pre-compiled Keras model. Has an option to return the history directly "
   ]
  },
  {
   "cell_type": "code",
   "execution_count": 144,
   "metadata": {
    "ExecuteTime": {
     "end_time": "2020-06-21T03:53:38.756868Z",
     "start_time": "2020-06-21T03:53:38.743907Z"
    },
    "hidden": true
   },
   "outputs": [
    {
     "data": {
      "text/plain": [
       "<module 'functions' from 'C:\\\\Users\\\\d_ful\\\\Documents\\\\Personal\\\\DataSci\\\\Learn.co\\\\Curriculum_2.1\\\\Mod4\\\\Project4\\\\functions.py'>"
      ]
     },
     "execution_count": 144,
     "metadata": {},
     "output_type": "execute_result"
    }
   ],
   "source": [
    "## Ensures functions work properly\n",
    "reload(dlf)"
   ]
  },
  {
   "cell_type": "code",
   "execution_count": 145,
   "metadata": {
    "ExecuteTime": {
     "end_time": "2020-06-21T03:57:04.502999Z",
     "start_time": "2020-06-21T03:54:11.624890Z"
    },
    "hidden": true,
    "scrolled": false
   },
   "outputs": [
    {
     "name": "stdout",
     "output_type": "stream",
     "text": [
      "------------------------------------------------------------\n",
      "Model Summary:\n",
      "------------------------------------------------------------\n",
      "Model: \"sequential_8\"\n",
      "_________________________________________________________________\n",
      "Layer (type)                 Output Shape              Param #   \n",
      "=================================================================\n",
      "embedding_9 (Embedding)      (None, None, 200)         2628800   \n",
      "_________________________________________________________________\n",
      "lstm_8 (LSTM)                (None, None, 20)          17680     \n",
      "_________________________________________________________________\n",
      "global_max_pooling1d_8 (Glob (None, 20)                0         \n",
      "_________________________________________________________________\n",
      "dropout_13 (Dropout)         (None, 20)                0         \n",
      "_________________________________________________________________\n",
      "dense_13 (Dense)             (None, 10)                210       \n",
      "_________________________________________________________________\n",
      "dropout_14 (Dropout)         (None, 10)                0         \n",
      "_________________________________________________________________\n",
      "dense_14 (Dense)             (None, 3)                 33        \n",
      "=================================================================\n",
      "Total params: 2,646,723\n",
      "Trainable params: 17,923\n",
      "Non-trainable params: 2,628,800\n",
      "_________________________________________________________________\n"
     ]
    },
    {
     "data": {
      "text/plain": [
       "None"
      ]
     },
     "metadata": {},
     "output_type": "display_data"
    },
    {
     "name": "stdout",
     "output_type": "stream",
     "text": [
      "------------------------------------------------------------\n",
      "Model Training....\n",
      "------------------------------------------------------------\n",
      "Train on 8150 samples, validate on 3493 samples\n",
      "Epoch 1/25\n",
      " - 8s - loss: 1.0709 - accuracy: 0.4472 - val_loss: 1.2191 - val_accuracy: 0.0000e+00\n",
      "Epoch 2/25\n",
      " - 7s - loss: 1.0105 - accuracy: 0.4968 - val_loss: 1.2660 - val_accuracy: 0.2385\n",
      "Epoch 3/25\n",
      " - 7s - loss: 0.9609 - accuracy: 0.5372 - val_loss: 1.1944 - val_accuracy: 0.3496\n",
      "Epoch 4/25\n",
      " - 7s - loss: 0.9162 - accuracy: 0.5710 - val_loss: 1.2222 - val_accuracy: 0.3793\n",
      "Epoch 5/25\n",
      " - 7s - loss: 0.8829 - accuracy: 0.5899 - val_loss: 1.2731 - val_accuracy: 0.3607\n",
      "Epoch 6/25\n",
      " - 7s - loss: 0.8660 - accuracy: 0.5960 - val_loss: 1.3846 - val_accuracy: 0.3873\n",
      "Epoch 7/25\n",
      " - 7s - loss: 0.8551 - accuracy: 0.6076 - val_loss: 1.4406 - val_accuracy: 0.3816\n",
      "Epoch 8/25\n",
      " - 7s - loss: 0.8389 - accuracy: 0.6071 - val_loss: 1.6658 - val_accuracy: 0.4237\n",
      "Epoch 9/25\n",
      " - 7s - loss: 0.8362 - accuracy: 0.6107 - val_loss: 1.4917 - val_accuracy: 0.3745\n",
      "Epoch 10/25\n",
      " - 7s - loss: 0.8242 - accuracy: 0.6148 - val_loss: 1.7418 - val_accuracy: 0.4128\n",
      "Epoch 11/25\n",
      " - 7s - loss: 0.8076 - accuracy: 0.6216 - val_loss: 1.7000 - val_accuracy: 0.3928\n",
      "Epoch 12/25\n",
      " - 7s - loss: 0.8066 - accuracy: 0.6242 - val_loss: 1.7320 - val_accuracy: 0.3979\n",
      "Epoch 13/25\n",
      " - 7s - loss: 0.8020 - accuracy: 0.6238 - val_loss: 1.9471 - val_accuracy: 0.4194\n",
      "Epoch 14/25\n",
      " - 7s - loss: 0.7992 - accuracy: 0.6267 - val_loss: 1.7940 - val_accuracy: 0.3945\n",
      "Epoch 15/25\n",
      " - 7s - loss: 0.7871 - accuracy: 0.6346 - val_loss: 1.8450 - val_accuracy: 0.4005\n",
      "Epoch 16/25\n",
      " - 7s - loss: 0.7820 - accuracy: 0.6337 - val_loss: 2.0015 - val_accuracy: 0.4154\n",
      "Epoch 17/25\n",
      " - 7s - loss: 0.7812 - accuracy: 0.6427 - val_loss: 2.0837 - val_accuracy: 0.4363\n",
      "Epoch 18/25\n",
      " - 7s - loss: 0.7714 - accuracy: 0.6402 - val_loss: 2.0876 - val_accuracy: 0.4177\n",
      "Epoch 19/25\n",
      " - 7s - loss: 0.7721 - accuracy: 0.6445 - val_loss: 2.3314 - val_accuracy: 0.4449\n",
      "Epoch 20/25\n",
      " - 7s - loss: 0.7684 - accuracy: 0.6444 - val_loss: 1.9983 - val_accuracy: 0.3934\n",
      "Epoch 21/25\n",
      " - 7s - loss: 0.7693 - accuracy: 0.6411 - val_loss: 2.0748 - val_accuracy: 0.4120\n",
      "Epoch 22/25\n",
      " - 7s - loss: 0.7662 - accuracy: 0.6452 - val_loss: 2.2695 - val_accuracy: 0.4300\n",
      "Epoch 23/25\n",
      " - 7s - loss: 0.7608 - accuracy: 0.6488 - val_loss: 2.1868 - val_accuracy: 0.4354\n",
      "Epoch 24/25\n",
      " - 7s - loss: 0.7575 - accuracy: 0.6498 - val_loss: 2.2153 - val_accuracy: 0.4163\n",
      "Epoch 25/25\n",
      " - 7s - loss: 0.7567 - accuracy: 0.6477 - val_loss: 2.3738 - val_accuracy: 0.4369\n",
      "---- Timer stopped at: 06/20/2020 - 08:57 PM ----\n",
      "---- Time elasped: 0:02:50.956223 ----\n"
     ]
    },
    {
     "data": {
      "image/png": "[encoded data removed]",
      "text/plain": [
       "<Figure size 864x432 with 2 Axes>"
      ]
     },
     "metadata": {
      "needs_background": "light"
     },
     "output_type": "display_data"
    },
    {
     "name": "stdout",
     "output_type": "stream",
     "text": [
      "------------------------------------------------------------\n",
      "Confusion Matrix:\n",
      "------------------------------------------------------------\n"
     ]
    },
    {
     "data": {
      "image/png": "[encoded data removed]",
      "text/plain": [
       "<Figure size 432x288 with 2 Axes>"
      ]
     },
     "metadata": {
      "needs_background": "light"
     },
     "output_type": "display_data"
    },
    {
     "name": "stdout",
     "output_type": "stream",
     "text": [
      "------------------------------------------------------------\n",
      "Classification Report:\n",
      "------------------------------------------------------------\n",
      "              precision    recall  f1-score   support\n",
      "\n",
      "           0       0.16      0.21      0.18       171\n",
      "           1       0.64      0.89      0.74      1663\n",
      "           2       0.60      0.12      0.19       894\n",
      "\n",
      "    accuracy                           0.59      2728\n",
      "   macro avg       0.46      0.41      0.37      2728\n",
      "weighted avg       0.59      0.59      0.53      2728\n",
      "\n"
     ]
    }
   ],
   "source": [
    "model_w2v_twt = dlf.make_model(cust_emb=wv_t.get_keras_embedding())\n",
    "dlf.evaluate_model(model_w2v_twt, X_tr_seq_cln_smt, X_te_seq_cln, y_tr_cln_smt, y_te_cln, dlf.Timer, cls_labels=labels, epch=25)"
   ]
  },
  {
   "cell_type": "markdown",
   "metadata": {
    "hidden": true
   },
   "source": [
    "> Once again, my model is overfitting, however with worse performance than that of my model that trained from end-to-end."
   ]
  },
  {
   "cell_type": "markdown",
   "metadata": {},
   "source": [
    "## GloVe"
   ]
  },
  {
   "cell_type": "markdown",
   "metadata": {},
   "source": [
    "> Similar to Word2Vec, GloVe has two different pre-trained embeddings that can be used. One is for general use and the other for Twitter; I will be showing the latter despite testing both initially.\n",
    "\n",
    "> One must download the embeddings directly from the glove website, then decide which set to import based upon the amount of dimensions in the pre-trained vectors. Due to hardware limitations, it worked quicker and more consistently with 50-dimensions although they offer up to 200-dimensions."
   ]
  },
  {
   "cell_type": "markdown",
   "metadata": {
    "heading_collapsed": true
   },
   "source": [
    "### Importing Vectors"
   ]
  },
  {
   "cell_type": "code",
   "execution_count": 146,
   "metadata": {
    "ExecuteTime": {
     "end_time": "2020-06-21T04:03:06.242644Z",
     "start_time": "2020-06-21T04:03:00.895849Z"
    },
    "hidden": true
   },
   "outputs": [],
   "source": [
    "## https://nlp.stanford.edu/projects/glove/\n",
    "## Need to download separately and put in directory 1st\n",
    "\n",
    "tot_vocab = tokenizer_2.word_index\n",
    "glove_twt = {}\n",
    "with open('glove.twitter.27B.50d.txt', 'rb') as f:\n",
    "    for line in f:\n",
    "        parts = line.split()\n",
    "        word = parts[0].decode('utf-8')\n",
    "        if word in tot_vocab:\n",
    "            vector = np.array(parts[1:], dtype=np.float32)\n",
    "            glove_twt[word] = vector\n",
    "f.close()"
   ]
  },
  {
   "cell_type": "code",
   "execution_count": 147,
   "metadata": {
    "ExecuteTime": {
     "end_time": "2020-06-21T04:03:14.016704Z",
     "start_time": "2020-06-21T04:03:13.993766Z"
    },
    "hidden": true
   },
   "outputs": [],
   "source": [
    "## Creating 50d matrix to be filled by WVs\n",
    "emb_matrix_twt = np.zeros((num_words, 50))\n",
    "\n",
    "## Iteration through tupled information\n",
    "for word, i in tokenizer_2.word_index.items():\n",
    "    emb_vector_twt = glove_twt.get(word)\n",
    "\n",
    "    if emb_vector_twt is not None:\n",
    "        emb_matrix_twt[i] = emb_vector_twt"
   ]
  },
  {
   "cell_type": "markdown",
   "metadata": {},
   "source": [
    "### Training"
   ]
  },
  {
   "cell_type": "code",
   "execution_count": 149,
   "metadata": {
    "ExecuteTime": {
     "end_time": "2020-06-21T04:07:57.726488Z",
     "start_time": "2020-06-21T04:07:57.715548Z"
    }
   },
   "outputs": [
    {
     "data": {
      "text/plain": [
       "<module 'functions' from 'C:\\\\Users\\\\d_ful\\\\Documents\\\\Personal\\\\DataSci\\\\Learn.co\\\\Curriculum_2.1\\\\Mod4\\\\Project4\\\\functions.py'>"
      ]
     },
     "execution_count": 149,
     "metadata": {},
     "output_type": "execute_result"
    }
   ],
   "source": [
    "reload(dlf)"
   ]
  },
  {
   "cell_type": "code",
   "execution_count": 150,
   "metadata": {
    "ExecuteTime": {
     "end_time": "2020-06-21T04:10:37.629409Z",
     "start_time": "2020-06-21T04:08:05.079398Z"
    },
    "scrolled": false
   },
   "outputs": [
    {
     "name": "stdout",
     "output_type": "stream",
     "text": [
      "------------------------------------------------------------\n",
      "Model Summary:\n",
      "------------------------------------------------------------\n",
      "Model: \"sequential_10\"\n",
      "_________________________________________________________________\n",
      "Layer (type)                 Output Shape              Param #   \n",
      "=================================================================\n",
      "embedding_11 (Embedding)     (None, 100, 50)           431600    \n",
      "_________________________________________________________________\n",
      "lstm_10 (LSTM)               (None, 100, 20)           5680      \n",
      "_________________________________________________________________\n",
      "global_max_pooling1d_10 (Glo (None, 20)                0         \n",
      "_________________________________________________________________\n",
      "dropout_16 (Dropout)         (None, 20)                0         \n",
      "_________________________________________________________________\n",
      "dense_16 (Dense)             (None, 10)                210       \n",
      "_________________________________________________________________\n",
      "dropout_17 (Dropout)         (None, 10)                0         \n",
      "_________________________________________________________________\n",
      "dense_17 (Dense)             (None, 3)                 33        \n",
      "=================================================================\n",
      "Total params: 437,523\n",
      "Trainable params: 5,923\n",
      "Non-trainable params: 431,600\n",
      "_________________________________________________________________\n"
     ]
    },
    {
     "data": {
      "text/plain": [
       "None"
      ]
     },
     "metadata": {},
     "output_type": "display_data"
    },
    {
     "name": "stdout",
     "output_type": "stream",
     "text": [
      "------------------------------------------------------------\n",
      "Model Training....\n",
      "------------------------------------------------------------\n",
      "Train on 8150 samples, validate on 3493 samples\n",
      "Epoch 1/25\n",
      " - 7s - loss: 1.0621 - accuracy: 0.4600 - val_loss: 1.2624 - val_accuracy: 0.0000e+00\n",
      "Epoch 2/25\n",
      " - 6s - loss: 1.0255 - accuracy: 0.4807 - val_loss: 1.2563 - val_accuracy: 0.0057\n",
      "Epoch 3/25\n",
      " - 6s - loss: 0.9830 - accuracy: 0.5155 - val_loss: 1.2190 - val_accuracy: 0.2525\n",
      "Epoch 4/25\n",
      " - 6s - loss: 0.9350 - accuracy: 0.5490 - val_loss: 1.2596 - val_accuracy: 0.3364\n",
      "Epoch 5/25\n",
      " - 6s - loss: 0.9018 - accuracy: 0.5704 - val_loss: 1.2985 - val_accuracy: 0.3212\n",
      "Epoch 6/25\n",
      " - 6s - loss: 0.8712 - accuracy: 0.5890 - val_loss: 1.3784 - val_accuracy: 0.3796\n",
      "Epoch 7/25\n",
      " - 6s - loss: 0.8411 - accuracy: 0.6042 - val_loss: 1.4776 - val_accuracy: 0.4017\n",
      "Epoch 8/25\n",
      " - 6s - loss: 0.8313 - accuracy: 0.6060 - val_loss: 1.5331 - val_accuracy: 0.3810\n",
      "Epoch 9/25\n",
      " - 6s - loss: 0.8204 - accuracy: 0.6076 - val_loss: 1.6983 - val_accuracy: 0.4217\n",
      "Epoch 10/25\n",
      " - 6s - loss: 0.8153 - accuracy: 0.6120 - val_loss: 1.5890 - val_accuracy: 0.3968\n",
      "Epoch 11/25\n",
      " - 6s - loss: 0.8009 - accuracy: 0.6180 - val_loss: 1.7668 - val_accuracy: 0.3979\n",
      "Epoch 12/25\n",
      " - 6s - loss: 0.7898 - accuracy: 0.6190 - val_loss: 1.7898 - val_accuracy: 0.3802\n",
      "Epoch 13/25\n",
      " - 6s - loss: 0.7923 - accuracy: 0.6228 - val_loss: 1.9230 - val_accuracy: 0.4263\n",
      "Epoch 14/25\n",
      " - 6s - loss: 0.7789 - accuracy: 0.6283 - val_loss: 1.9146 - val_accuracy: 0.4085\n",
      "Epoch 15/25\n",
      " - 6s - loss: 0.7744 - accuracy: 0.6298 - val_loss: 1.9805 - val_accuracy: 0.3997\n",
      "Epoch 16/25\n",
      " - 6s - loss: 0.7607 - accuracy: 0.6352 - val_loss: 2.0761 - val_accuracy: 0.4163\n",
      "Epoch 17/25\n",
      " - 6s - loss: 0.7531 - accuracy: 0.6374 - val_loss: 2.0556 - val_accuracy: 0.3825\n",
      "Epoch 18/25\n",
      " - 6s - loss: 0.7558 - accuracy: 0.6422 - val_loss: 2.0561 - val_accuracy: 0.3868\n",
      "Epoch 19/25\n",
      " - 6s - loss: 0.7427 - accuracy: 0.6485 - val_loss: 2.2315 - val_accuracy: 0.4057\n",
      "Epoch 20/25\n",
      " - 6s - loss: 0.7309 - accuracy: 0.6504 - val_loss: 2.2906 - val_accuracy: 0.4177\n",
      "Epoch 21/25\n",
      " - 6s - loss: 0.7366 - accuracy: 0.6513 - val_loss: 2.3122 - val_accuracy: 0.4183\n",
      "Epoch 22/25\n",
      " - 6s - loss: 0.7345 - accuracy: 0.6515 - val_loss: 2.2788 - val_accuracy: 0.4200\n",
      "Epoch 23/25\n",
      " - 6s - loss: 0.7304 - accuracy: 0.6610 - val_loss: 2.2812 - val_accuracy: 0.4171\n",
      "Epoch 24/25\n",
      " - 6s - loss: 0.7243 - accuracy: 0.6665 - val_loss: 2.3480 - val_accuracy: 0.4260\n",
      "Epoch 25/25\n",
      " - 6s - loss: 0.7147 - accuracy: 0.6658 - val_loss: 2.4547 - val_accuracy: 0.4286\n",
      "---- Timer stopped at: 06/20/2020 - 09:10 PM ----\n",
      "---- Time elasped: 0:02:31.044014 ----\n"
     ]
    },
    {
     "data": {
      "image/png": "[encoded data removed]",
      "text/plain": [
       "<Figure size 864x432 with 2 Axes>"
      ]
     },
     "metadata": {
      "needs_background": "light"
     },
     "output_type": "display_data"
    },
    {
     "name": "stdout",
     "output_type": "stream",
     "text": [
      "------------------------------------------------------------\n",
      "Confusion Matrix:\n",
      "------------------------------------------------------------\n"
     ]
    },
    {
     "data": {
      "image/png": "[encoded data removed]",
      "text/plain": [
       "<Figure size 432x288 with 2 Axes>"
      ]
     },
     "metadata": {
      "needs_background": "light"
     },
     "output_type": "display_data"
    },
    {
     "name": "stdout",
     "output_type": "stream",
     "text": [
      "------------------------------------------------------------\n",
      "Classification Report:\n",
      "------------------------------------------------------------\n",
      "              precision    recall  f1-score   support\n",
      "\n",
      "           0       0.19      0.25      0.21       171\n",
      "           1       0.66      0.86      0.75      1663\n",
      "           2       0.59      0.23      0.33       894\n",
      "\n",
      "    accuracy                           0.61      2728\n",
      "   macro avg       0.48      0.45      0.43      2728\n",
      "weighted avg       0.61      0.61      0.58      2728\n",
      "\n"
     ]
    }
   ],
   "source": [
    "## Presetting embedding layer + training\n",
    "glve_emb_twt = Embedding(num_words, 50, weights=[emb_matrix_twt], input_length=100, trainable=False)\n",
    "\n",
    "model_glve_twt = dlf.make_model(cust_emb=glve_emb_twt)\n",
    "dlf.evaluate_model(model_glve_twt, X_tr_seq_cln_smt, X_te_seq_cln, y_tr_cln_smt, y_te_cln, dlf.Timer, cls_labels=labels, epch=25)"
   ]
  },
  {
   "cell_type": "markdown",
   "metadata": {},
   "source": [
    "> This seems as-if it will continue to increase in validation accuracy, but the loss graph *clearly* indicates there is overfitting occurring."
   ]
  },
  {
   "cell_type": "markdown",
   "metadata": {},
   "source": [
    "# Final Setup"
   ]
  },
  {
   "cell_type": "markdown",
   "metadata": {},
   "source": [
    "## NN Architecture"
   ]
  },
  {
   "cell_type": "markdown",
   "metadata": {},
   "source": [
    "> After many iterations I came across this architecture as the *best* model in relation to the baseline's model performance."
   ]
  },
  {
   "cell_type": "code",
   "execution_count": 156,
   "metadata": {
    "ExecuteTime": {
     "end_time": "2020-06-21T05:02:35.757837Z",
     "start_time": "2020-06-21T05:02:35.745870Z"
    }
   },
   "outputs": [
    {
     "data": {
      "text/plain": [
       "<module 'functions' from 'C:\\\\Users\\\\d_ful\\\\Documents\\\\Personal\\\\DataSci\\\\Learn.co\\\\Curriculum_2.1\\\\Mod4\\\\Project4\\\\functions.py'>"
      ]
     },
     "execution_count": 156,
     "metadata": {},
     "output_type": "execute_result"
    }
   ],
   "source": [
    "reload(dlf)"
   ]
  },
  {
   "cell_type": "code",
   "execution_count": 157,
   "metadata": {
    "ExecuteTime": {
     "end_time": "2020-06-21T05:02:44.346928Z",
     "start_time": "2020-06-21T05:02:44.062644Z"
    }
   },
   "outputs": [
    {
     "name": "stdout",
     "output_type": "stream",
     "text": [
      "Highest Seq #:\n",
      "8632\n",
      "Model: \"sequential_14\"\n",
      "_________________________________________________________________\n",
      "Layer (type)                 Output Shape              Param #   \n",
      "=================================================================\n",
      "embedding_15 (Embedding)     (None, None, 128)         1104896   \n",
      "_________________________________________________________________\n",
      "lstm_14 (LSTM)               (None, None, 50)          35800     \n",
      "_________________________________________________________________\n",
      "global_max_pooling1d_14 (Glo (None, 50)                0         \n",
      "_________________________________________________________________\n",
      "dropout_27 (Dropout)         (None, 50)                0         \n",
      "_________________________________________________________________\n",
      "dense_27 (Dense)             (None, 20)                1020      \n",
      "_________________________________________________________________\n",
      "dropout_28 (Dropout)         (None, 20)                0         \n",
      "_________________________________________________________________\n",
      "dense_28 (Dense)             (None, 5)                 105       \n",
      "_________________________________________________________________\n",
      "dropout_29 (Dropout)         (None, 5)                 0         \n",
      "_________________________________________________________________\n",
      "dense_29 (Dense)             (None, 3)                 18        \n",
      "=================================================================\n",
      "Total params: 1,141,839\n",
      "Trainable params: 1,141,839\n",
      "Non-trainable params: 0\n",
      "_________________________________________________________________\n"
     ]
    }
   ],
   "source": [
    "## Instantiate\n",
    "model_fin = Sequential()\n",
    "\n",
    "## To be added as 'input_dim' for input layer\n",
    "num_words_fin = X_tr_seq_cln_smt.max() + 1\n",
    "print('Highest Seq #:')\n",
    "print(num_words_fin)\n",
    "\n",
    "## Input layer (input) + dimensions for learning (128)\n",
    "model_fin.add(Embedding(num_words, embedding_size))\n",
    "\n",
    "## 1st hidden layer + Pooling to 1d representation + dropout regularization\n",
    "model_fin.add(LSTM(50, return_sequences=True))\n",
    "model_fin.add(GlobalMaxPool1D())\n",
    "model_fin.add(Dropout(0.3))\n",
    "\n",
    "## 2nd hidden layer + dropout reg.\n",
    "model_fin.add(Dense(20, activation='relu'))\n",
    "model_fin.add(Dropout(0.3))\n",
    "\n",
    "## 3rd hiddenn layer + dropout reg.\n",
    "model_fin.add(Dense(5, activation='relu'))\n",
    "model_fin.add(Dropout(0.3))\n",
    "\n",
    "## Output layer \n",
    "model_fin.add(Dense(3, activation='softmax'))\n",
    "\n",
    "## Compliling model to use Adam / accuracy metric\n",
    "model_fin.compile(loss='categorical_crossentropy', \n",
    "              optimizer='adam', \n",
    "              metrics=['accuracy'])\n",
    "\n",
    "## Q.C\n",
    "model_fin.summary()"
   ]
  },
  {
   "cell_type": "markdown",
   "metadata": {},
   "source": [
    "## Training"
   ]
  },
  {
   "cell_type": "code",
   "execution_count": 154,
   "metadata": {
    "ExecuteTime": {
     "end_time": "2020-06-21T04:48:42.273819Z",
     "start_time": "2020-06-21T04:43:52.088562Z"
    },
    "scrolled": false
   },
   "outputs": [
    {
     "name": "stdout",
     "output_type": "stream",
     "text": [
      "------------------------------------------------------------\n",
      "Model Training....\n",
      "------------------------------------------------------------\n",
      "Train on 8150 samples, validate on 3493 samples\n",
      "Epoch 1/25\n",
      " - 12s - loss: 1.0809 - accuracy: 0.4533 - val_loss: 1.2474 - val_accuracy: 0.0000e+00\n",
      "Epoch 2/25\n",
      " - 12s - loss: 1.0253 - accuracy: 0.4864 - val_loss: 1.2337 - val_accuracy: 0.3301\n",
      "Epoch 3/25\n",
      " - 11s - loss: 0.8563 - accuracy: 0.5899 - val_loss: 1.3555 - val_accuracy: 0.3977\n",
      "Epoch 4/25\n",
      " - 12s - loss: 0.7551 - accuracy: 0.6216 - val_loss: 1.6264 - val_accuracy: 0.4257\n",
      "Epoch 5/25\n",
      " - 12s - loss: 0.6587 - accuracy: 0.6715 - val_loss: 1.6685 - val_accuracy: 0.4443\n",
      "Epoch 6/25\n",
      " - 12s - loss: 0.5881 - accuracy: 0.7567 - val_loss: 1.8365 - val_accuracy: 0.4520\n",
      "Epoch 7/25\n",
      " - 11s - loss: 0.5181 - accuracy: 0.8054 - val_loss: 2.2007 - val_accuracy: 0.4300\n",
      "Epoch 8/25\n",
      " - 11s - loss: 0.4526 - accuracy: 0.8319 - val_loss: 2.3267 - val_accuracy: 0.4466\n",
      "Epoch 9/25\n",
      " - 11s - loss: 0.4124 - accuracy: 0.8467 - val_loss: 2.6188 - val_accuracy: 0.4518\n",
      "Epoch 10/25\n",
      " - 11s - loss: 0.3909 - accuracy: 0.8525 - val_loss: 2.9047 - val_accuracy: 0.4395\n",
      "Epoch 11/25\n",
      " - 11s - loss: 0.3592 - accuracy: 0.8621 - val_loss: 2.9634 - val_accuracy: 0.4498\n",
      "Epoch 12/25\n",
      " - 12s - loss: 0.3420 - accuracy: 0.8694 - val_loss: 3.0297 - val_accuracy: 0.4437\n",
      "Epoch 13/25\n",
      " - 11s - loss: 0.3249 - accuracy: 0.8739 - val_loss: 3.3187 - val_accuracy: 0.4480\n",
      "Epoch 14/25\n",
      " - 11s - loss: 0.3147 - accuracy: 0.8731 - val_loss: 3.6856 - val_accuracy: 0.4569\n",
      "Epoch 15/25\n",
      " - 11s - loss: 0.3133 - accuracy: 0.8784 - val_loss: 4.0866 - val_accuracy: 0.4475\n",
      "Epoch 16/25\n",
      " - 11s - loss: 0.2884 - accuracy: 0.8882 - val_loss: 4.1346 - val_accuracy: 0.4626\n",
      "Epoch 17/25\n",
      " - 11s - loss: 0.3059 - accuracy: 0.8847 - val_loss: 3.5934 - val_accuracy: 0.4386\n",
      "Epoch 18/25\n",
      " - 11s - loss: 0.2720 - accuracy: 0.8879 - val_loss: 4.0099 - val_accuracy: 0.4323\n",
      "Epoch 19/25\n",
      " - 11s - loss: 0.2743 - accuracy: 0.8885 - val_loss: 4.1130 - val_accuracy: 0.4460\n",
      "Epoch 20/25\n",
      " - 11s - loss: 0.2670 - accuracy: 0.8879 - val_loss: 4.4580 - val_accuracy: 0.4412\n",
      "Epoch 21/25\n",
      " - 11s - loss: 0.2632 - accuracy: 0.8925 - val_loss: 4.1644 - val_accuracy: 0.4280\n",
      "Epoch 22/25\n",
      " - 11s - loss: 0.2551 - accuracy: 0.9000 - val_loss: 3.9684 - val_accuracy: 0.4443\n",
      "Epoch 23/25\n",
      " - 11s - loss: 0.2558 - accuracy: 0.8974 - val_loss: 3.9685 - val_accuracy: 0.4455\n",
      "Epoch 24/25\n",
      " - 11s - loss: 0.2489 - accuracy: 0.8999 - val_loss: 4.8704 - val_accuracy: 0.4226\n",
      "Epoch 25/25\n",
      " - 11s - loss: 0.2387 - accuracy: 0.9028 - val_loss: 4.9551 - val_accuracy: 0.4532\n",
      "---- Timer stopped at: 06/20/2020 - 09:48 PM ----\n",
      "---- Time elasped: 0:04:48.517684 ----\n"
     ]
    },
    {
     "data": {
      "image/png": "[encoded data removed]",
      "text/plain": [
       "<Figure size 864x432 with 2 Axes>"
      ]
     },
     "metadata": {
      "needs_background": "light"
     },
     "output_type": "display_data"
    },
    {
     "name": "stdout",
     "output_type": "stream",
     "text": [
      "------------------------------------------------------------\n",
      "Confusion Matrix:\n",
      "------------------------------------------------------------\n"
     ]
    },
    {
     "data": {
      "image/png": "[encoded data removed]",
      "text/plain": [
       "<Figure size 432x288 with 2 Axes>"
      ]
     },
     "metadata": {
      "needs_background": "light"
     },
     "output_type": "display_data"
    },
    {
     "name": "stdout",
     "output_type": "stream",
     "text": [
      "------------------------------------------------------------\n",
      "Classification Report:\n",
      "------------------------------------------------------------\n",
      "              precision    recall  f1-score   support\n",
      "\n",
      "           0       0.28      0.37      0.32       171\n",
      "           1       0.73      0.75      0.74      1663\n",
      "           2       0.57      0.50      0.53       894\n",
      "\n",
      "    accuracy                           0.65      2728\n",
      "   macro avg       0.53      0.54      0.53      2728\n",
      "weighted avg       0.65      0.65      0.65      2728\n",
      "\n"
     ]
    }
   ],
   "source": [
    "## Training! + eval.\n",
    "dlf.evaluate_model(model_fin, X_tr_seq_cln_smt, X_te_seq_cln, y_tr_cln_smt, y_te_cln, dlf.Timer, cls_labels=labels, epch=25)"
   ]
  },
  {
   "cell_type": "markdown",
   "metadata": {},
   "source": [
    "> My final results only improved upon my baseline accuracy by **3%**. Although not much of an increase, given more time and data, this could easily be changed without altering the structure of the network."
   ]
  },
  {
   "cell_type": "markdown",
   "metadata": {},
   "source": [
    "# Recommendations & Future Works"
   ]
  },
  {
   "cell_type": "markdown",
   "metadata": {},
   "source": [
    "## Recommendations"
   ]
  },
  {
   "cell_type": "markdown",
   "metadata": {},
   "source": [
    "> Given these results this model *as-is* does its best work determining which tweets are either 'Positive' *or* 'Negative'. When the model made its predictions, it was more likely the those predictions were a true 'Negative' or 'Positive' tweet than when it predicted a tweet was 'Neutral'. \n",
    "* For any 'Negative' prediction it made on the test data, there was only a 6% chance it was either 'Positive' or 'Neutral' in reality, respectively.\n",
    "* Similarly, for 'Positive' predictions there was a 18-19% chance it was each of the other classes.\n",
    "\n",
    "> The most improvement that can be made within my model can be in distinguishing those statements 'in-the-middle'. Based upon the results, it is misclassifying primarily in the 'Neutral' column. This means that some 'Negative' tweets carry some different underlying pattern that my model determines to be more neutral than others. It, as alluded to before, misses 43% of its predictions on true 'Negative' tweets by choosing the 'Neutral' class. This can also be said about true 'Positive' tweets. \n",
    "* Otherwise, this model is able to achieve 75% inter-class accuracy within the 'Neutral' class. Meaning it can be effective in weeding out these tweets, but it would be at the expense of losing just under 50% of your non-'Neutral' tweets."
   ]
  },
  {
   "cell_type": "markdown",
   "metadata": {},
   "source": [
    "## Future Works"
   ]
  },
  {
   "cell_type": "markdown",
   "metadata": {},
   "source": [
    "> Given more time I would like to explore a few different avenues.\n",
    "* More Data!\n",
    "  * One of the reasons my validation accuracy could be improved is by feeding it more examples to learn from.\n",
    "* More time with NN architectures\n",
    "  * I found that many different setups can produce similar results, and with so many knobs to turn, maybe there is something else I missed.\n",
    "* Standard ML methods\n",
    "  * Perhaps this problem can adequately be handled by a more traditional ML classifier such as RandomForest or Logistic Regression."
   ]
  }
 ],
 "metadata": {
  "kernelspec": {
   "display_name": "Python 3",
   "language": "python",
   "name": "python3"
  },
  "language_info": {
   "codemirror_mode": {
    "name": "ipython",
    "version": 3
   },
   "file_extension": ".py",
   "mimetype": "text/x-python",
   "name": "python",
   "nbconvert_exporter": "python",
   "pygments_lexer": "ipython3",
   "version": "3.6.6"
  },
  "toc": {
   "base_numbering": 1,
   "nav_menu": {},
   "number_sections": true,
   "sideBar": true,
   "skip_h1_title": false,
   "title_cell": "Table of Contents",
   "title_sidebar": "Contents",
   "toc_cell": false,
   "toc_position": {},
   "toc_section_display": true,
   "toc_window_display": true
  },
  "varInspector": {
   "cols": {
    "lenName": 16,
    "lenType": 16,
    "lenVar": 40
   },
   "kernels_config": {
    "python": {
     "delete_cmd_postfix": "",
     "delete_cmd_prefix": "del ",
     "library": "var_list.py",
     "varRefreshCmd": "print(var_dic_list())"
    },
    "r": {
     "delete_cmd_postfix": ") ",
     "delete_cmd_prefix": "rm(",
     "library": "var_list.r",
     "varRefreshCmd": "cat(var_dic_list()) "
    }
   },
   "types_to_exclude": [
    "module",
    "function",
    "builtin_function_or_method",
    "instance",
    "_Feature"
   ],
   "window_display": false
  }
 },
 "nbformat": 4,
 "nbformat_minor": 2
}
